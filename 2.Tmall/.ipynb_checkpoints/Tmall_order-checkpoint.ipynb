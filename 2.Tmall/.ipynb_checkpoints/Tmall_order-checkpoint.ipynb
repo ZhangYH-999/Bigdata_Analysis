{
 "cells": [
  {
   "cell_type": "markdown",
   "id": "f60c5aab",
   "metadata": {},
   "source": [
    "# Tmall 订单数据分析\n",
    "## 数据说明\n",
    "数据来源：[和鲸社区](https://www.heywhale.com/home/)\n",
    "\n",
    "3份互不相关的电商数据集：\n",
    "\n",
    "`tmall_order_report.cvs` (天猫订单表)\n",
    "\n",
    "`双十一淘宝美妆数据.csv`\n",
    "\n",
    "`日化.xlsx`\n",
    "\n",
    "\n",
    "### Part 1\n",
    "mall_order_report.csv ：约2.8万条订单数据，可供挖掘的省份（收货地址），指标则有销售量、销售额、退款金额、退货率、成交率、地区分布、下单时间趋势等\n",
    "\n",
    "#### 1.1 数据处理"
   ]
  },
  {
   "cell_type": "code",
   "execution_count": 1,
   "id": "e2315495",
   "metadata": {},
   "outputs": [
    {
     "data": {
      "text/html": [
       "<div>\n",
       "<style scoped>\n",
       "    .dataframe tbody tr th:only-of-type {\n",
       "        vertical-align: middle;\n",
       "    }\n",
       "\n",
       "    .dataframe tbody tr th {\n",
       "        vertical-align: top;\n",
       "    }\n",
       "\n",
       "    .dataframe thead th {\n",
       "        text-align: right;\n",
       "    }\n",
       "</style>\n",
       "<table border=\"1\" class=\"dataframe\">\n",
       "  <thead>\n",
       "    <tr style=\"text-align: right;\">\n",
       "      <th></th>\n",
       "      <th>订单编号</th>\n",
       "      <th>总金额</th>\n",
       "      <th>买家实际支付金额</th>\n",
       "      <th>收货地址</th>\n",
       "      <th>订单创建时间</th>\n",
       "      <th>订单付款时间</th>\n",
       "      <th>退款金额</th>\n",
       "    </tr>\n",
       "  </thead>\n",
       "  <tbody>\n",
       "    <tr>\n",
       "      <th>0</th>\n",
       "      <td>1</td>\n",
       "      <td>178.8</td>\n",
       "      <td>0.0</td>\n",
       "      <td>上海</td>\n",
       "      <td>2020-02-21 00:00:00</td>\n",
       "      <td>NaN</td>\n",
       "      <td>0.0</td>\n",
       "    </tr>\n",
       "    <tr>\n",
       "      <th>1</th>\n",
       "      <td>2</td>\n",
       "      <td>21.0</td>\n",
       "      <td>21.0</td>\n",
       "      <td>内蒙古自治区</td>\n",
       "      <td>2020-02-20 23:59:54</td>\n",
       "      <td>2020-02-21 00:00:02</td>\n",
       "      <td>0.0</td>\n",
       "    </tr>\n",
       "    <tr>\n",
       "      <th>2</th>\n",
       "      <td>3</td>\n",
       "      <td>37.0</td>\n",
       "      <td>0.0</td>\n",
       "      <td>安徽省</td>\n",
       "      <td>2020-02-20 23:59:35</td>\n",
       "      <td>NaN</td>\n",
       "      <td>0.0</td>\n",
       "    </tr>\n",
       "    <tr>\n",
       "      <th>3</th>\n",
       "      <td>4</td>\n",
       "      <td>157.0</td>\n",
       "      <td>157.0</td>\n",
       "      <td>湖南省</td>\n",
       "      <td>2020-02-20 23:58:34</td>\n",
       "      <td>2020-02-20 23:58:44</td>\n",
       "      <td>0.0</td>\n",
       "    </tr>\n",
       "    <tr>\n",
       "      <th>4</th>\n",
       "      <td>5</td>\n",
       "      <td>64.8</td>\n",
       "      <td>0.0</td>\n",
       "      <td>江苏省</td>\n",
       "      <td>2020-02-20 23:57:04</td>\n",
       "      <td>2020-02-20 23:57:11</td>\n",
       "      <td>64.8</td>\n",
       "    </tr>\n",
       "  </tbody>\n",
       "</table>\n",
       "</div>"
      ],
      "text/plain": [
       "   订单编号    总金额  买家实际支付金额   收货地址                订单创建时间              订单付款时间   \\\n",
       "0     1  178.8       0.0      上海  2020-02-21 00:00:00                  NaN   \n",
       "1     2   21.0      21.0  内蒙古自治区  2020-02-20 23:59:54  2020-02-21 00:00:02   \n",
       "2     3   37.0       0.0     安徽省  2020-02-20 23:59:35                  NaN   \n",
       "3     4  157.0     157.0     湖南省  2020-02-20 23:58:34  2020-02-20 23:58:44   \n",
       "4     5   64.8       0.0     江苏省  2020-02-20 23:57:04  2020-02-20 23:57:11   \n",
       "\n",
       "   退款金额  \n",
       "0   0.0  \n",
       "1   0.0  \n",
       "2   0.0  \n",
       "3   0.0  \n",
       "4  64.8  "
      ]
     },
     "execution_count": 1,
     "metadata": {},
     "output_type": "execute_result"
    }
   ],
   "source": [
    "import pandas as pd\n",
    "\n",
    "ori_data = pd.read_csv('tmall_order_report.csv')\n",
    "ori_data.head(5)"
   ]
  },
  {
   "cell_type": "code",
   "execution_count": 2,
   "id": "958d0e2e",
   "metadata": {},
   "outputs": [
    {
     "data": {
      "text/html": [
       "<div>\n",
       "<style scoped>\n",
       "    .dataframe tbody tr th:only-of-type {\n",
       "        vertical-align: middle;\n",
       "    }\n",
       "\n",
       "    .dataframe tbody tr th {\n",
       "        vertical-align: top;\n",
       "    }\n",
       "\n",
       "    .dataframe thead th {\n",
       "        text-align: right;\n",
       "    }\n",
       "</style>\n",
       "<table border=\"1\" class=\"dataframe\">\n",
       "  <thead>\n",
       "    <tr style=\"text-align: right;\">\n",
       "      <th></th>\n",
       "      <th>订单编号</th>\n",
       "      <th>总金额</th>\n",
       "      <th>买家实际支付金额</th>\n",
       "      <th>退款金额</th>\n",
       "    </tr>\n",
       "  </thead>\n",
       "  <tbody>\n",
       "    <tr>\n",
       "      <th>count</th>\n",
       "      <td>28010.000000</td>\n",
       "      <td>28010.000000</td>\n",
       "      <td>28010.000000</td>\n",
       "      <td>28010.000000</td>\n",
       "    </tr>\n",
       "    <tr>\n",
       "      <th>mean</th>\n",
       "      <td>14005.500000</td>\n",
       "      <td>106.953253</td>\n",
       "      <td>67.921712</td>\n",
       "      <td>20.433271</td>\n",
       "    </tr>\n",
       "    <tr>\n",
       "      <th>std</th>\n",
       "      <td>8085.934856</td>\n",
       "      <td>1136.587094</td>\n",
       "      <td>151.493434</td>\n",
       "      <td>71.501963</td>\n",
       "    </tr>\n",
       "    <tr>\n",
       "      <th>min</th>\n",
       "      <td>1.000000</td>\n",
       "      <td>1.000000</td>\n",
       "      <td>0.000000</td>\n",
       "      <td>0.000000</td>\n",
       "    </tr>\n",
       "    <tr>\n",
       "      <th>25%</th>\n",
       "      <td>7003.250000</td>\n",
       "      <td>38.000000</td>\n",
       "      <td>0.000000</td>\n",
       "      <td>0.000000</td>\n",
       "    </tr>\n",
       "    <tr>\n",
       "      <th>50%</th>\n",
       "      <td>14005.500000</td>\n",
       "      <td>75.000000</td>\n",
       "      <td>45.000000</td>\n",
       "      <td>0.000000</td>\n",
       "    </tr>\n",
       "    <tr>\n",
       "      <th>75%</th>\n",
       "      <td>21007.750000</td>\n",
       "      <td>119.000000</td>\n",
       "      <td>101.000000</td>\n",
       "      <td>0.000000</td>\n",
       "    </tr>\n",
       "    <tr>\n",
       "      <th>max</th>\n",
       "      <td>28010.000000</td>\n",
       "      <td>188320.000000</td>\n",
       "      <td>16065.000000</td>\n",
       "      <td>3800.000000</td>\n",
       "    </tr>\n",
       "  </tbody>\n",
       "</table>\n",
       "</div>"
      ],
      "text/plain": [
       "               订单编号            总金额      买家实际支付金额          退款金额\n",
       "count  28010.000000   28010.000000  28010.000000  28010.000000\n",
       "mean   14005.500000     106.953253     67.921712     20.433271\n",
       "std     8085.934856    1136.587094    151.493434     71.501963\n",
       "min        1.000000       1.000000      0.000000      0.000000\n",
       "25%     7003.250000      38.000000      0.000000      0.000000\n",
       "50%    14005.500000      75.000000     45.000000      0.000000\n",
       "75%    21007.750000     119.000000    101.000000      0.000000\n",
       "max    28010.000000  188320.000000  16065.000000   3800.000000"
      ]
     },
     "execution_count": 2,
     "metadata": {},
     "output_type": "execute_result"
    }
   ],
   "source": [
    "ori_data.describe()"
   ]
  },
  {
   "cell_type": "code",
   "execution_count": 3,
   "id": "2711457b",
   "metadata": {},
   "outputs": [
    {
     "name": "stdout",
     "output_type": "stream",
     "text": [
      "<class 'pandas.core.frame.DataFrame'>\n",
      "RangeIndex: 28010 entries, 0 to 28009\n",
      "Data columns (total 7 columns):\n",
      " #   Column    Non-Null Count  Dtype  \n",
      "---  ------    --------------  -----  \n",
      " 0   订单编号      28010 non-null  int64  \n",
      " 1   总金额       28010 non-null  float64\n",
      " 2   买家实际支付金额  28010 non-null  float64\n",
      " 3   收货地址      28010 non-null  object \n",
      " 4   订单创建时间    28010 non-null  object \n",
      " 5   订单付款时间    24087 non-null  object \n",
      " 6   退款金额      28010 non-null  float64\n",
      "dtypes: float64(3), int64(1), object(3)\n",
      "memory usage: 1.5+ MB\n"
     ]
    }
   ],
   "source": [
    "ori_data.info()"
   ]
  },
  {
   "cell_type": "code",
   "execution_count": 4,
   "id": "e63e129f",
   "metadata": {},
   "outputs": [
    {
     "data": {
      "text/plain": [
       "Index(['订单编号', '总金额', '买家实际支付金额', '收货地址', '订单创建时间', '订单付款时间', '退款金额'], dtype='object')"
      ]
     },
     "execution_count": 4,
     "metadata": {},
     "output_type": "execute_result"
    }
   ],
   "source": [
    "# 规范列名（去空格）\n",
    "ori_data.columns = ori_data.columns.str.strip()  \n",
    "ori_data.columns"
   ]
  },
  {
   "cell_type": "code",
   "execution_count": 5,
   "id": "dca0b6ac",
   "metadata": {},
   "outputs": [
    {
     "name": "stdout",
     "output_type": "stream",
     "text": [
      "订单编号        0\n",
      "总金额         0\n",
      "买家实际支付金额    0\n",
      "收货地址        0\n",
      "订单创建时间      0\n",
      "订单付款时间      0\n",
      "退款金额        0\n",
      "dtype: int64\n",
      "订单编号           0\n",
      "总金额            0\n",
      "买家实际支付金额       0\n",
      "收货地址           0\n",
      "订单创建时间         0\n",
      "订单付款时间      3923\n",
      "退款金额           0\n",
      "dtype: int64\n"
     ]
    }
   ],
   "source": [
    "# 判断是否存在重复行\n",
    "'''\n",
    "DataFrame.duplicated(subset=None, keep='first')\n",
    "- subset: column label or sequence of labels\n",
    "- keep: 'first'(keep first False),'last'(keep last False), False(all True)\n",
    "'''\n",
    "print(ori_data[ori_data.duplicated()].count())\n",
    "#（可用drop_duplicated()去重）\n",
    "\n",
    "# 统计各项属性null数据量\n",
    "print(ori_data.isnull().sum())"
   ]
  },
  {
   "cell_type": "code",
   "execution_count": 37,
   "id": "6f1a4c40",
   "metadata": {},
   "outputs": [
    {
     "data": {
      "text/plain": [
       "0       2020-02-21 00:00:00\n",
       "1       2020-02-20 23:59:54\n",
       "2       2020-02-20 23:59:35\n",
       "3       2020-02-20 23:58:34\n",
       "4       2020-02-20 23:57:04\n",
       "                ...        \n",
       "28005   2020-02-27 00:01:00\n",
       "28006   2020-02-27 00:00:18\n",
       "28007   2020-02-27 00:00:17\n",
       "28008   2020-02-27 00:00:09\n",
       "28009   2020-02-27 00:00:06\n",
       "Name: 订单创建时间, Length: 28010, dtype: datetime64[ns]"
      ]
     },
     "execution_count": 37,
     "metadata": {},
     "output_type": "execute_result"
    }
   ],
   "source": [
    "# 将时间属性转换为时间格式对象\n",
    "# to_datetime()  convert data to pd.datatime obj\n",
    "\n",
    "ori_data['订单创建时间'] = pd.to_datetime(ori_data['订单创建时间'])\n",
    "ori_data['订单付款时间'] = pd.to_datetime(ori_data['订单付款时间'])\n"
   ]
  },
  {
   "cell_type": "markdown",
   "id": "02b2acc3",
   "metadata": {},
   "source": [
    "#### 1.2 数据可视化与数据分析\n",
    "**总体分析**"
   ]
  },
  {
   "cell_type": "code",
   "execution_count": 76,
   "id": "59cc7f4b",
   "metadata": {},
   "outputs": [
    {
     "name": "stdout",
     "output_type": "stream",
     "text": [
      "订单总数 28010.00\n",
      "已完成订单数 24087.00\n",
      "未付款订单数 3923.00\n",
      "总订单金额 2474823.07\n",
      "总退款金额 572335.92\n",
      "总实际收入金额 1902487.15\n"
     ]
    }
   ],
   "source": [
    "from matplotlib import pyplot as plt\n",
    "plt.rcParams['font.sans-serif']=['SimHei'] #Show Chinese label\n",
    "plt.rcParams['axes.unicode_minus']=False   #These two lines need to be set manually\n",
    "\n",
    "stat_res = {}\n",
    "\n",
    "stat_res['订单总数'] = ori_data['订单编号'].count()\n",
    "stat_res['已完成订单数'] = ori_data['订单编号'][ori_data['订单付款时间'].notnull()].count()\n",
    "stat_res['未付款订单数'] = ori_data['订单编号'][ori_data['订单付款时间'].isnull()].count()\n",
    "stat_res['总订单金额'] = ori_data['总金额'][ori_data['订单付款时间'].notnull()].sum()\n",
    "stat_res['总退款金额'] = ori_data['退款金额'].sum()\n",
    "stat_res['总实际收入金额'] = ori_data['买家实际支付金额'][ori_data['订单付款时间'].notnull()].sum()\n",
    "\n",
    "for k, v in stat_res.items():\n",
    "    print(k, '%.2f'%v)"
   ]
  },
  {
   "cell_type": "code",
   "execution_count": 72,
   "id": "63f60fb7",
   "metadata": {},
   "outputs": [
    {
     "data": {
      "image/png": "[encoded data removed]",
      "text/plain": [
       "<Figure size 720x576 with 1 Axes>"
      ]
     },
     "metadata": {
      "needs_background": "light"
     },
     "output_type": "display_data"
    }
   ],
   "source": [
    "# 清理省份名称数据\n",
    "ori_data['收货地址'] = ori_data['收货地址'].str.replace('自治区|维吾尔|省|壮族|回族', '', regex=True)\n",
    "\n",
    "res0 = ori_data['收货地址'].groupby(ori_data['收货地址']).agg('count').to_dict()\n",
    "\n",
    "res0 = dict(sorted(res0.items(), key=lambda x: x[1], reverse=True))\n",
    "\n",
    "fig = plt.figure(figsize=(10, 8))\n",
    "plt.bar(res0.keys(), res0.values())\n",
    "plt.xticks(rotation=90)\n",
    "plt.xlabel('Province')\n",
    "plt.ylabel('Order Volumes')\n",
    "plt.show()"
   ]
  },
  {
   "cell_type": "markdown",
   "id": "b1c53dcc",
   "metadata": {},
   "source": [
    "**时间趋势分析**"
   ]
  },
  {
   "cell_type": "code",
   "execution_count": 78,
   "id": "8f0deadb",
   "metadata": {},
   "outputs": [
    {
     "data": {
      "image/png": "[encoded data removed]",
      "text/plain": [
       "<Figure size 432x288 with 1 Axes>"
      ]
     },
     "metadata": {
      "needs_background": "light"
     },
     "output_type": "display_data"
    }
   ],
   "source": [
    "res1 = ori_data.groupby(ori_data['订单创建时间'].apply(lambda x: x.strftime('%Y-%m-%d'))).agg({'订单创建时间':'count'}).to_dict()['订单创建时间']\n",
    "\n",
    "# groupby()\n",
    "# apply()\n",
    "# strftime()\n",
    "# agg()\n",
    "# to_dict()\n",
    "\n",
    "plt.plot(res1.keys(), res1.values())\n",
    "plt.xticks(rotation=65)\n",
    "plt.xlabel('Date')\n",
    "plt.ylabel('Order Volumes')\n",
    "plt.title('Monthly Order Volumes Trend')\n",
    "plt.show()"
   ]
  },
  {
   "cell_type": "markdown",
   "id": "f78bbf11",
   "metadata": {},
   "source": [
    "从上图可见，2月份上半月的订单较少，从2月14日订单开始明显上涨"
   ]
  },
  {
   "cell_type": "code",
   "execution_count": 77,
   "id": "a7962d17",
   "metadata": {},
   "outputs": [
    {
     "data": {
      "image/png": "[encoded data removed]",
      "text/plain": [
       "<Figure size 432x288 with 1 Axes>"
      ]
     },
     "metadata": {
      "needs_background": "light"
     },
     "output_type": "display_data"
    }
   ],
   "source": [
    "res2 = ori_data.groupby(ori_data['订单创建时间'].apply(lambda x: x.strftime('%H'))).agg({'订单编号':'count'}).to_dict()['订单编号']\n",
    "\n",
    "\n",
    "plt.bar(res2.keys(), res2.values())\n",
    "plt.title('Hourly Order Volumes Trend')\n",
    "plt.xlabel('Hour')\n",
    "plt.ylabel('Order Volumes')\n",
    "plt.show()"
   ]
  },
  {
   "cell_type": "markdown",
   "id": "b816d8be",
   "metadata": {},
   "source": [
    "上图表明的一天中每个小时的下单数量变化趋势，一天中在10点，15点，21点出现了下单的高峰点，其中晚上时间段（20点至22点）下单量明显高于其他时间段。因此根据下单的时间规律，可在高峰期合理安排客服人员，保证客服回复速度，从而提高服务质量。"
   ]
  },
  {
   "cell_type": "markdown",
   "id": "38af8243",
   "metadata": {},
   "source": [
    "### Part 2\n",
    "双十一淘宝美妆数据.csv：数据集是美妆店铺的双十一销售数据,约2.75万条数据，可以挖掘的纬度有日期、店铺，指标则有销售量、销售额、评论数等。\n",
    "\n",
    "#### 2.1 数据理解与处理\n"
   ]
  },
  {
   "cell_type": "code",
   "execution_count": 1,
   "id": "773fec22",
   "metadata": {},
   "outputs": [
    {
     "data": {
      "text/html": [
       "<div>\n",
       "<style scoped>\n",
       "    .dataframe tbody tr th:only-of-type {\n",
       "        vertical-align: middle;\n",
       "    }\n",
       "\n",
       "    .dataframe tbody tr th {\n",
       "        vertical-align: top;\n",
       "    }\n",
       "\n",
       "    .dataframe thead th {\n",
       "        text-align: right;\n",
       "    }\n",
       "</style>\n",
       "<table border=\"1\" class=\"dataframe\">\n",
       "  <thead>\n",
       "    <tr style=\"text-align: right;\">\n",
       "      <th></th>\n",
       "      <th>update_time</th>\n",
       "      <th>id</th>\n",
       "      <th>title</th>\n",
       "      <th>price</th>\n",
       "      <th>sale_count</th>\n",
       "      <th>comment_count</th>\n",
       "      <th>店名</th>\n",
       "    </tr>\n",
       "  </thead>\n",
       "  <tbody>\n",
       "    <tr>\n",
       "      <th>0</th>\n",
       "      <td>2016/11/14</td>\n",
       "      <td>A18164178225</td>\n",
       "      <td>CHANDO/自然堂 雪域精粹纯粹滋润霜50g 补水保湿 滋润水润面霜</td>\n",
       "      <td>139.0</td>\n",
       "      <td>26719.0</td>\n",
       "      <td>2704.0</td>\n",
       "      <td>自然堂</td>\n",
       "    </tr>\n",
       "    <tr>\n",
       "      <th>1</th>\n",
       "      <td>2016/11/14</td>\n",
       "      <td>A18177105952</td>\n",
       "      <td>CHANDO/自然堂凝时鲜颜肌活乳液120ML 淡化细纹补水滋润专柜正品</td>\n",
       "      <td>194.0</td>\n",
       "      <td>8122.0</td>\n",
       "      <td>1492.0</td>\n",
       "      <td>自然堂</td>\n",
       "    </tr>\n",
       "    <tr>\n",
       "      <th>2</th>\n",
       "      <td>2016/11/14</td>\n",
       "      <td>A18177226992</td>\n",
       "      <td>CHANDO/自然堂活泉保湿修护精华水（滋润型135ml 补水控油爽肤水</td>\n",
       "      <td>99.0</td>\n",
       "      <td>12668.0</td>\n",
       "      <td>589.0</td>\n",
       "      <td>自然堂</td>\n",
       "    </tr>\n",
       "    <tr>\n",
       "      <th>3</th>\n",
       "      <td>2016/11/14</td>\n",
       "      <td>A18178033846</td>\n",
       "      <td>CHANDO/自然堂 男士劲爽控油洁面膏 100g 深层清洁  男士洗面奶</td>\n",
       "      <td>38.0</td>\n",
       "      <td>25805.0</td>\n",
       "      <td>4287.0</td>\n",
       "      <td>自然堂</td>\n",
       "    </tr>\n",
       "    <tr>\n",
       "      <th>4</th>\n",
       "      <td>2016/11/14</td>\n",
       "      <td>A18178045259</td>\n",
       "      <td>CHANDO/自然堂雪域精粹纯粹滋润霜（清爽型）50g补水保湿滋润霜</td>\n",
       "      <td>139.0</td>\n",
       "      <td>5196.0</td>\n",
       "      <td>618.0</td>\n",
       "      <td>自然堂</td>\n",
       "    </tr>\n",
       "  </tbody>\n",
       "</table>\n",
       "</div>"
      ],
      "text/plain": [
       "  update_time            id                                  title  price  \\\n",
       "0  2016/11/14  A18164178225    CHANDO/自然堂 雪域精粹纯粹滋润霜50g 补水保湿 滋润水润面霜  139.0   \n",
       "1  2016/11/14  A18177105952   CHANDO/自然堂凝时鲜颜肌活乳液120ML 淡化细纹补水滋润专柜正品  194.0   \n",
       "2  2016/11/14  A18177226992   CHANDO/自然堂活泉保湿修护精华水（滋润型135ml 补水控油爽肤水   99.0   \n",
       "3  2016/11/14  A18178033846  CHANDO/自然堂 男士劲爽控油洁面膏 100g 深层清洁  男士洗面奶   38.0   \n",
       "4  2016/11/14  A18178045259     CHANDO/自然堂雪域精粹纯粹滋润霜（清爽型）50g补水保湿滋润霜  139.0   \n",
       "\n",
       "   sale_count  comment_count   店名  \n",
       "0     26719.0         2704.0  自然堂  \n",
       "1      8122.0         1492.0  自然堂  \n",
       "2     12668.0          589.0  自然堂  \n",
       "3     25805.0         4287.0  自然堂  \n",
       "4      5196.0          618.0  自然堂  "
      ]
     },
     "execution_count": 1,
     "metadata": {},
     "output_type": "execute_result"
    }
   ],
   "source": [
    "import pandas as pd\n",
    "\n",
    "tmall_11_makeup_data = pd.read_csv('双十一淘宝美妆数据.csv')\n",
    "tmall_11_makeup_data.head()"
   ]
  },
  {
   "cell_type": "code",
   "execution_count": 2,
   "id": "1e1cc529",
   "metadata": {},
   "outputs": [
    {
     "name": "stdout",
     "output_type": "stream",
     "text": [
      "<class 'pandas.core.frame.DataFrame'>\n",
      "RangeIndex: 27598 entries, 0 to 27597\n",
      "Data columns (total 7 columns):\n",
      " #   Column         Non-Null Count  Dtype  \n",
      "---  ------         --------------  -----  \n",
      " 0   update_time    27598 non-null  object \n",
      " 1   id             27598 non-null  object \n",
      " 2   title          27598 non-null  object \n",
      " 3   price          27598 non-null  float64\n",
      " 4   sale_count     25244 non-null  float64\n",
      " 5   comment_count  25244 non-null  float64\n",
      " 6   店名             27598 non-null  object \n",
      "dtypes: float64(3), object(4)\n",
      "memory usage: 1.5+ MB\n"
     ]
    }
   ],
   "source": [
    "tmall_11_makeup_data.info()"
   ]
  },
  {
   "cell_type": "code",
   "execution_count": 3,
   "id": "d5eaf9d5",
   "metadata": {},
   "outputs": [
    {
     "name": "stdout",
     "output_type": "stream",
     "text": [
      "update_time      86\n",
      "id               86\n",
      "title            86\n",
      "price            86\n",
      "sale_count       82\n",
      "comment_count    82\n",
      "店名               86\n",
      "dtype: int64\n"
     ]
    }
   ],
   "source": [
    "# 数据查重\n",
    "print(tmall_11_makeup_data[tmall_11_makeup_data.duplicated()].count())\n"
   ]
  },
  {
   "cell_type": "code",
   "execution_count": 4,
   "id": "5e0f21cc",
   "metadata": {},
   "outputs": [],
   "source": [
    "# 数据去重，重建索引\n",
    "tmall_11_makeup_data.drop_duplicates(inplace=True)\n",
    "tmall_11_makeup_data.reset_index(drop=True, inplace=True)"
   ]
  },
  {
   "cell_type": "code",
   "execution_count": 5,
   "id": "bb0e060d",
   "metadata": {},
   "outputs": [
    {
     "data": {
      "text/plain": [
       "update_time         0\n",
       "id                  0\n",
       "title               0\n",
       "price               0\n",
       "sale_count       2350\n",
       "comment_count    2350\n",
       "店名                  0\n",
       "dtype: int64"
      ]
     },
     "execution_count": 5,
     "metadata": {},
     "output_type": "execute_result"
    }
   ],
   "source": [
    "# 检测空值\n",
    "tmall_11_makeup_data.isnull().sum()  # sale_count comment_count存在空值"
   ]
  },
  {
   "cell_type": "code",
   "execution_count": 6,
   "id": "c4680b7a",
   "metadata": {
    "collapsed": true
   },
   "outputs": [
    {
     "data": {
      "text/html": [
       "<div>\n",
       "<style scoped>\n",
       "    .dataframe tbody tr th:only-of-type {\n",
       "        vertical-align: middle;\n",
       "    }\n",
       "\n",
       "    .dataframe tbody tr th {\n",
       "        vertical-align: top;\n",
       "    }\n",
       "\n",
       "    .dataframe thead th {\n",
       "        text-align: right;\n",
       "    }\n",
       "</style>\n",
       "<table border=\"1\" class=\"dataframe\">\n",
       "  <thead>\n",
       "    <tr style=\"text-align: right;\">\n",
       "      <th></th>\n",
       "      <th>update_time</th>\n",
       "      <th>id</th>\n",
       "      <th>title</th>\n",
       "      <th>price</th>\n",
       "      <th>sale_count</th>\n",
       "      <th>comment_count</th>\n",
       "      <th>店名</th>\n",
       "      <th>sale_amount</th>\n",
       "    </tr>\n",
       "  </thead>\n",
       "  <tbody>\n",
       "    <tr>\n",
       "      <th>17026</th>\n",
       "      <td>2016/11/14</td>\n",
       "      <td>A24304992630</td>\n",
       "      <td>德国妮维雅男士洗面奶控油祛痘印保湿去黑头去油清洁面乳液护肤品</td>\n",
       "      <td>42.0</td>\n",
       "      <td>1923160.0</td>\n",
       "      <td>197949.0</td>\n",
       "      <td>妮维雅</td>\n",
       "      <td>80772720.0</td>\n",
       "    </tr>\n",
       "    <tr>\n",
       "      <th>17126</th>\n",
       "      <td>2016/11/13</td>\n",
       "      <td>A24304992630</td>\n",
       "      <td>德国妮维雅男士洗面奶控油祛痘印保湿去黑头去油清洁面乳液护肤品</td>\n",
       "      <td>37.9</td>\n",
       "      <td>1921582.0</td>\n",
       "      <td>198774.0</td>\n",
       "      <td>妮维雅</td>\n",
       "      <td>72827957.8</td>\n",
       "    </tr>\n",
       "    <tr>\n",
       "      <th>17228</th>\n",
       "      <td>2016/11/12</td>\n",
       "      <td>A24304992630</td>\n",
       "      <td>德国妮维雅男士洗面奶控油祛痘印保湿去黑头去油清洁面乳液护肤品</td>\n",
       "      <td>37.9</td>\n",
       "      <td>1920083.0</td>\n",
       "      <td>199062.0</td>\n",
       "      <td>妮维雅</td>\n",
       "      <td>72771145.7</td>\n",
       "    </tr>\n",
       "    <tr>\n",
       "      <th>17339</th>\n",
       "      <td>2016/11/11</td>\n",
       "      <td>A24304992630</td>\n",
       "      <td>2瓶更划算*妮维雅男士洗面奶控油祛痘印保湿去黑头去油洁面乳护肤</td>\n",
       "      <td>35.0</td>\n",
       "      <td>1886100.0</td>\n",
       "      <td>199532.0</td>\n",
       "      <td>妮维雅</td>\n",
       "      <td>66013500.0</td>\n",
       "    </tr>\n",
       "    <tr>\n",
       "      <th>17470</th>\n",
       "      <td>2016/11/10</td>\n",
       "      <td>A24304992630</td>\n",
       "      <td>德国妮维雅男士洗面奶控油祛痘印保湿去黑头去油清洁面乳液护肤品</td>\n",
       "      <td>42.0</td>\n",
       "      <td>1827562.0</td>\n",
       "      <td>200154.0</td>\n",
       "      <td>妮维雅</td>\n",
       "      <td>76757604.0</td>\n",
       "    </tr>\n",
       "  </tbody>\n",
       "</table>\n",
       "</div>"
      ],
      "text/plain": [
       "      update_time            id                            title  price  \\\n",
       "17026  2016/11/14  A24304992630   德国妮维雅男士洗面奶控油祛痘印保湿去黑头去油清洁面乳液护肤品   42.0   \n",
       "17126  2016/11/13  A24304992630   德国妮维雅男士洗面奶控油祛痘印保湿去黑头去油清洁面乳液护肤品   37.9   \n",
       "17228  2016/11/12  A24304992630   德国妮维雅男士洗面奶控油祛痘印保湿去黑头去油清洁面乳液护肤品   37.9   \n",
       "17339  2016/11/11  A24304992630  2瓶更划算*妮维雅男士洗面奶控油祛痘印保湿去黑头去油洁面乳护肤   35.0   \n",
       "17470  2016/11/10  A24304992630   德国妮维雅男士洗面奶控油祛痘印保湿去黑头去油清洁面乳液护肤品   42.0   \n",
       "\n",
       "       sale_count  comment_count   店名  sale_amount  \n",
       "17026   1923160.0       197949.0  妮维雅   80772720.0  \n",
       "17126   1921582.0       198774.0  妮维雅   72827957.8  \n",
       "17228   1920083.0       199062.0  妮维雅   72771145.7  \n",
       "17339   1886100.0       199532.0  妮维雅   66013500.0  \n",
       "17470   1827562.0       200154.0  妮维雅   76757604.0  "
      ]
     },
     "execution_count": 6,
     "metadata": {},
     "output_type": "execute_result"
    }
   ],
   "source": [
    "# 填补空值\n",
    "tmall_11_makeup_data.fillna(0, inplace=True)\n",
    "# 检测空值\n",
    "# tmall_11_makeup_data.isnull().sum()\n",
    "\n",
    "# 添加销售总额\n",
    "tmall_11_makeup_data['sale_amount'] = tmall_11_makeup_data['sale_count']*tmall_11_makeup_data['price']\n",
    "\n",
    "tmall_11_makeup_data[tmall_11_makeup_data['sale_amount']>0].sort_values(by=['sale_count'], ascending=False).head()"
   ]
  },
  {
   "cell_type": "code",
   "execution_count": 7,
   "id": "66302581",
   "metadata": {},
   "outputs": [],
   "source": [
    "# 日期格式化\n",
    "tmall_11_makeup_data['update_time'] = pd.to_datetime(tmall_11_makeup_data['update_time']).apply(lambda x: x.strftime('%Y-%m-%d'))"
   ]
  },
  {
   "cell_type": "code",
   "execution_count": 8,
   "id": "83c22c2e",
   "metadata": {},
   "outputs": [
    {
     "data": {
      "text/plain": [
       "array(['自然堂', '资生堂', '植村秀', '悦诗风吟', '玉兰油', '雅漾', '雅诗兰黛', '雪花秀', '相宜本草',\n",
       "       '薇姿', '倩碧', '欧珀莱', '欧莱雅', '妮维雅', '蜜丝佛陀', '美加净', '美宝莲', '兰芝', '兰蔻',\n",
       "       '娇兰', '佰草集', 'SKII'], dtype=object)"
      ]
     },
     "execution_count": 8,
     "metadata": {},
     "output_type": "execute_result"
    }
   ],
   "source": [
    "tmall_11_makeup_data['店名'].unique()"
   ]
  },
  {
   "cell_type": "markdown",
   "id": "7422bf88",
   "metadata": {},
   "source": [
    "#### 2.2 数据可视化与分析"
   ]
  },
  {
   "cell_type": "code",
   "execution_count": 9,
   "id": "d4194acb",
   "metadata": {},
   "outputs": [
    {
     "data": {
      "image/png": "[encoded data removed]",
      "text/plain": [
       "<Figure size 720x576 with 1 Axes>"
      ]
     },
     "metadata": {
      "needs_background": "light"
     },
     "output_type": "display_data"
    },
    {
     "data": {
      "image/png": "[encoded data removed]",
      "text/plain": [
       "<Figure size 720x576 with 1 Axes>"
      ]
     },
     "metadata": {
      "needs_background": "light"
     },
     "output_type": "display_data"
    }
   ],
   "source": [
    "import matplotlib.pyplot as plt\n",
    "plt.rcParams['font.sans-serif']=['SimHei'] #Show Chinese label\n",
    "plt.rcParams['axes.unicode_minus']=False   #These two lines need to be set manually\n",
    "\n",
    "# total sale count and total sale amount\n",
    "stat_sale_temp = tmall_11_makeup_data.groupby(tmall_11_makeup_data['店名']).agg({'sale_count': 'sum', 'sale_amount':'sum'}).to_dict()\n",
    "\n",
    "sale_count_dict = stat_sale_temp['sale_count']\n",
    "sale_count_dict = dict(sorted(sale_count_dict.items(), key=lambda x: x[1]))\n",
    "sale_count_dict = dict(filter(lambda x: x[1] !=0, sale_count_dict.items()))\n",
    "\n",
    "sale_amount_dict = stat_sale_temp['sale_amount']\n",
    "sale_amount_dict = dict(sorted(sale_amount_dict.items(), key=lambda x: x[1]))\n",
    "sale_amount_dict = dict(filter(lambda x: x[1] != 0, sale_amount_dict.items()))\n",
    "\n",
    "\n",
    "fig = plt.figure(figsize=(10,8))\n",
    "\n",
    "x = list(sale_count_dict.keys())\n",
    "y = list(sale_count_dict.values())\n",
    "plt.barh(x, y)\n",
    "plt.ylabel('Brand')\n",
    "plt.xlabel('Total Sale Count')\n",
    "\n",
    "for i in range(len(y)):\n",
    "    plt.annotate('{:.2f} million'.format(y[i]/1000000), (y[i]+0.2, i-0.1))       # 设置数据的标注\n",
    "plt.show()\n",
    "\n",
    "fig = plt.figure(figsize=(10,8))\n",
    "x = list(sale_amount_dict.keys())\n",
    "y = list(sale_amount_dict.values())\n",
    "plt.barh(x, y)\n",
    "plt.ylabel('Brand')\n",
    "plt.xlabel('Total Sale Amount')\n",
    "\n",
    "for i in range(len(y)):\n",
    "    plt.annotate('{:.2f} million'.format(y[i]/1000000), (y[i]+0.2, i-0.1))       # 设置数据的标注\n",
    "plt.show()\n"
   ]
  },
  {
   "cell_type": "code",
   "execution_count": 24,
   "id": "8e02e933",
   "metadata": {},
   "outputs": [
    {
     "data": {
      "image/png": "[encoded data removed]",
      "text/plain": [
       "<Figure size 720x576 with 1 Axes>"
      ]
     },
     "metadata": {},
     "output_type": "display_data"
    }
   ],
   "source": [
    "# total count top 10\n",
    "top_10_sale_count = tmall_11_makeup_data.groupby('店名').agg({'sale_count': 'sum'}).sort_values(by='sale_count', ascending=False)[:10].to_dict()['sale_count']\n",
    "\n",
    "fig = plt.figure(figsize=(10,8))\n",
    "plt.pie(top_10_sale_count.values(), labels=top_10_sale_count.keys(), autopct=\"%0.2f%%\")\n",
    "plt.title(\"Total Sale Count Top 10 \")\n",
    "plt.show()"
   ]
  },
  {
   "cell_type": "code",
   "execution_count": 36,
   "id": "1e0d7dab",
   "metadata": {},
   "outputs": [
    {
     "data": {
      "image/png": "[encoded data removed]",
      "text/plain": [
       "<Figure size 720x576 with 1 Axes>"
      ]
     },
     "metadata": {
      "needs_background": "light"
     },
     "output_type": "display_data"
    }
   ],
   "source": [
    "# price stat\n",
    "top_20_high_price = tmall_11_makeup_data.groupby('店名').agg({'price': 'mean'}).sort_values(by='price')[:20].to_dict()['price']\n",
    "\n",
    "fig = plt.figure(figsize=(10, 8))\n",
    "\n",
    "x = list(top_20_high_price.keys())\n",
    "y = list(top_20_high_price.values())\n",
    "plt.barh(x, y)\n",
    "\n",
    "plt.title('Highest Price Top 20')\n",
    "for i in range(len(y)):\n",
    "    plt.annotate('{:.2f}'.format(y[i]), (y[i]+5, i-0.1))   \n",
    "plt.show()\n"
   ]
  },
  {
   "cell_type": "markdown",
   "id": "05667c45",
   "metadata": {},
   "source": [
    "### Part 3\n",
    "\n",
    "日化.xlsx：数据集是美妆类商品订单数据，包含连个sheet（订单表和商品表）\n",
    "挖掘维度：日期，地区，销售量，销售额，增长率等\n",
    "\n",
    "#### 3.1 数据处理"
   ]
  },
  {
   "cell_type": "code",
   "execution_count": 34,
   "id": "f7763cf0",
   "metadata": {},
   "outputs": [],
   "source": [
    "import pandas as pd\n",
    "\n",
    "order_data = pd.read_excel('日化.xlsx', sheet_name='销售订单表')\n",
    "product_data = pd.read_excel('日化.xlsx', sheet_name='商品信息表')\n"
   ]
  },
  {
   "cell_type": "code",
   "execution_count": 35,
   "id": "6d4d3a5e",
   "metadata": {},
   "outputs": [
    {
     "data": {
      "text/html": [
       "<div>\n",
       "<style scoped>\n",
       "    .dataframe tbody tr th:only-of-type {\n",
       "        vertical-align: middle;\n",
       "    }\n",
       "\n",
       "    .dataframe tbody tr th {\n",
       "        vertical-align: top;\n",
       "    }\n",
       "\n",
       "    .dataframe thead th {\n",
       "        text-align: right;\n",
       "    }\n",
       "</style>\n",
       "<table border=\"1\" class=\"dataframe\">\n",
       "  <thead>\n",
       "    <tr style=\"text-align: right;\">\n",
       "      <th></th>\n",
       "      <th>订单编码</th>\n",
       "      <th>订单日期</th>\n",
       "      <th>客户编码</th>\n",
       "      <th>所在区域</th>\n",
       "      <th>所在省份</th>\n",
       "      <th>所在地市</th>\n",
       "      <th>商品编号</th>\n",
       "      <th>订购数量</th>\n",
       "      <th>订购单价</th>\n",
       "      <th>金额</th>\n",
       "    </tr>\n",
       "  </thead>\n",
       "  <tbody>\n",
       "    <tr>\n",
       "      <th>0</th>\n",
       "      <td>D31313</td>\n",
       "      <td>2019-05-16 00:00:00</td>\n",
       "      <td>S22796</td>\n",
       "      <td>东区</td>\n",
       "      <td>浙江省</td>\n",
       "      <td>台州市</td>\n",
       "      <td>X091</td>\n",
       "      <td>892</td>\n",
       "      <td>214</td>\n",
       "      <td>190888.0</td>\n",
       "    </tr>\n",
       "    <tr>\n",
       "      <th>1</th>\n",
       "      <td>D21329</td>\n",
       "      <td>2019-05-14 00:00:00</td>\n",
       "      <td>S11460</td>\n",
       "      <td>东区</td>\n",
       "      <td>安徽省</td>\n",
       "      <td>宿州市</td>\n",
       "      <td>X005</td>\n",
       "      <td>276</td>\n",
       "      <td>185</td>\n",
       "      <td>51060.0</td>\n",
       "    </tr>\n",
       "    <tr>\n",
       "      <th>2</th>\n",
       "      <td>D22372</td>\n",
       "      <td>2019-08-26 00:00:00</td>\n",
       "      <td>S11101</td>\n",
       "      <td>北区</td>\n",
       "      <td>山西省</td>\n",
       "      <td>忻州市</td>\n",
       "      <td>X078</td>\n",
       "      <td>1450</td>\n",
       "      <td>116</td>\n",
       "      <td>168200.0</td>\n",
       "    </tr>\n",
       "    <tr>\n",
       "      <th>3</th>\n",
       "      <td>D31078</td>\n",
       "      <td>2019-04-08 00:00:00</td>\n",
       "      <td>S10902</td>\n",
       "      <td>北区</td>\n",
       "      <td>吉林省</td>\n",
       "      <td>延边朝鲜族自治州</td>\n",
       "      <td>X025</td>\n",
       "      <td>1834</td>\n",
       "      <td>102</td>\n",
       "      <td>187068.0</td>\n",
       "    </tr>\n",
       "    <tr>\n",
       "      <th>4</th>\n",
       "      <td>D32470</td>\n",
       "      <td>2019-04-11 00:00:00</td>\n",
       "      <td>S18696</td>\n",
       "      <td>北区</td>\n",
       "      <td>北京市</td>\n",
       "      <td>北京市</td>\n",
       "      <td>X010</td>\n",
       "      <td>887</td>\n",
       "      <td>58</td>\n",
       "      <td>51446.0</td>\n",
       "    </tr>\n",
       "  </tbody>\n",
       "</table>\n",
       "</div>"
      ],
      "text/plain": [
       "     订单编码                 订单日期    客户编码 所在区域 所在省份      所在地市  商品编号  订购数量 订购单价  \\\n",
       "0  D31313  2019-05-16 00:00:00  S22796   东区  浙江省       台州市  X091   892  214   \n",
       "1  D21329  2019-05-14 00:00:00  S11460   东区  安徽省       宿州市  X005   276  185   \n",
       "2  D22372  2019-08-26 00:00:00  S11101   北区  山西省       忻州市  X078  1450  116   \n",
       "3  D31078  2019-04-08 00:00:00  S10902   北区  吉林省  延边朝鲜族自治州  X025  1834  102   \n",
       "4  D32470  2019-04-11 00:00:00  S18696   北区  北京市       北京市  X010   887   58   \n",
       "\n",
       "         金额  \n",
       "0  190888.0  \n",
       "1   51060.0  \n",
       "2  168200.0  \n",
       "3  187068.0  \n",
       "4   51446.0  "
      ]
     },
     "execution_count": 35,
     "metadata": {},
     "output_type": "execute_result"
    }
   ],
   "source": [
    "order_data.head()"
   ]
  },
  {
   "cell_type": "code",
   "execution_count": 36,
   "id": "3fb1a913",
   "metadata": {
    "scrolled": true
   },
   "outputs": [
    {
     "data": {
      "text/html": [
       "<div>\n",
       "<style scoped>\n",
       "    .dataframe tbody tr th:only-of-type {\n",
       "        vertical-align: middle;\n",
       "    }\n",
       "\n",
       "    .dataframe tbody tr th {\n",
       "        vertical-align: top;\n",
       "    }\n",
       "\n",
       "    .dataframe thead th {\n",
       "        text-align: right;\n",
       "    }\n",
       "</style>\n",
       "<table border=\"1\" class=\"dataframe\">\n",
       "  <thead>\n",
       "    <tr style=\"text-align: right;\">\n",
       "      <th></th>\n",
       "      <th>商品编号</th>\n",
       "      <th>商品名称</th>\n",
       "      <th>商品小类</th>\n",
       "      <th>商品大类</th>\n",
       "      <th>销售单价</th>\n",
       "    </tr>\n",
       "  </thead>\n",
       "  <tbody>\n",
       "    <tr>\n",
       "      <th>0</th>\n",
       "      <td>X001</td>\n",
       "      <td>商品1</td>\n",
       "      <td>面膜</td>\n",
       "      <td>护肤品</td>\n",
       "      <td>121</td>\n",
       "    </tr>\n",
       "    <tr>\n",
       "      <th>1</th>\n",
       "      <td>X002</td>\n",
       "      <td>商品2</td>\n",
       "      <td>面膜</td>\n",
       "      <td>护肤品</td>\n",
       "      <td>141</td>\n",
       "    </tr>\n",
       "    <tr>\n",
       "      <th>2</th>\n",
       "      <td>X003</td>\n",
       "      <td>商品3</td>\n",
       "      <td>面膜</td>\n",
       "      <td>护肤品</td>\n",
       "      <td>168</td>\n",
       "    </tr>\n",
       "    <tr>\n",
       "      <th>3</th>\n",
       "      <td>X004</td>\n",
       "      <td>商品4</td>\n",
       "      <td>面膜</td>\n",
       "      <td>护肤品</td>\n",
       "      <td>211</td>\n",
       "    </tr>\n",
       "    <tr>\n",
       "      <th>4</th>\n",
       "      <td>X005</td>\n",
       "      <td>商品5</td>\n",
       "      <td>面膜</td>\n",
       "      <td>护肤品</td>\n",
       "      <td>185</td>\n",
       "    </tr>\n",
       "  </tbody>\n",
       "</table>\n",
       "</div>"
      ],
      "text/plain": [
       "   商品编号 商品名称 商品小类 商品大类  销售单价\n",
       "0  X001  商品1   面膜  护肤品   121\n",
       "1  X002  商品2   面膜  护肤品   141\n",
       "2  X003  商品3   面膜  护肤品   168\n",
       "3  X004  商品4   面膜  护肤品   211\n",
       "4  X005  商品5   面膜  护肤品   185"
      ]
     },
     "execution_count": 36,
     "metadata": {},
     "output_type": "execute_result"
    }
   ],
   "source": [
    "product_data.head()"
   ]
  },
  {
   "cell_type": "code",
   "execution_count": 37,
   "id": "81457098",
   "metadata": {},
   "outputs": [
    {
     "name": "stdout",
     "output_type": "stream",
     "text": [
      "<class 'pandas.core.frame.DataFrame'>\n",
      "RangeIndex: 31452 entries, 0 to 31451\n",
      "Data columns (total 10 columns):\n",
      " #   Column  Non-Null Count  Dtype  \n",
      "---  ------  --------------  -----  \n",
      " 0   订单编码    31452 non-null  object \n",
      " 1   订单日期    31452 non-null  object \n",
      " 2   客户编码    31452 non-null  object \n",
      " 3   所在区域    31450 non-null  object \n",
      " 4   所在省份    31450 non-null  object \n",
      " 5   所在地市    31452 non-null  object \n",
      " 6   商品编号    31451 non-null  object \n",
      " 7   订购数量    31450 non-null  object \n",
      " 8   订购单价    31448 non-null  object \n",
      " 9   金额      31448 non-null  float64\n",
      "dtypes: float64(1), object(9)\n",
      "memory usage: 2.4+ MB\n"
     ]
    }
   ],
   "source": [
    "order_data.info()  # 有空值"
   ]
  },
  {
   "cell_type": "code",
   "execution_count": 38,
   "id": "424290e6",
   "metadata": {},
   "outputs": [
    {
     "name": "stdout",
     "output_type": "stream",
     "text": [
      "<class 'pandas.core.frame.DataFrame'>\n",
      "RangeIndex: 122 entries, 0 to 121\n",
      "Data columns (total 5 columns):\n",
      " #   Column  Non-Null Count  Dtype \n",
      "---  ------  --------------  ----- \n",
      " 0   商品编号    122 non-null    object\n",
      " 1   商品名称    122 non-null    object\n",
      " 2   商品小类    122 non-null    object\n",
      " 3   商品大类    122 non-null    object\n",
      " 4   销售单价    122 non-null    int64 \n",
      "dtypes: int64(1), object(4)\n",
      "memory usage: 4.9+ KB\n"
     ]
    }
   ],
   "source": [
    "product_data.info()"
   ]
  },
  {
   "cell_type": "code",
   "execution_count": 39,
   "id": "d308301f",
   "metadata": {},
   "outputs": [
    {
     "name": "stdout",
     "output_type": "stream",
     "text": [
      "0\n",
      "0\n",
      "商品编号    0\n",
      "商品名称    0\n",
      "商品小类    0\n",
      "商品大类    0\n",
      "销售单价    0\n",
      "dtype: int64\n"
     ]
    }
   ],
   "source": [
    "# 数据查重\n",
    "print(product_data.duplicated().sum())\n",
    "print(product_data['商品编号'].duplicated().sum())\n",
    "\n",
    "# 空值检查\n",
    "print(product_data.isnull().sum())"
   ]
  },
  {
   "cell_type": "code",
   "execution_count": 40,
   "id": "335fca27",
   "metadata": {},
   "outputs": [
    {
     "name": "stdout",
     "output_type": "stream",
     "text": [
      "6\n"
     ]
    }
   ],
   "source": [
    "# 数据查重\n",
    "print(order_data.duplicated().sum())"
   ]
  },
  {
   "cell_type": "code",
   "execution_count": 41,
   "id": "994f432a",
   "metadata": {},
   "outputs": [
    {
     "data": {
      "text/plain": [
       "订单编码    0\n",
       "订单日期    0\n",
       "客户编码    0\n",
       "所在区域    2\n",
       "所在省份    2\n",
       "所在地市    0\n",
       "商品编号    1\n",
       "订购数量    2\n",
       "订购单价    4\n",
       "金额      4\n",
       "dtype: int64"
      ]
     },
     "execution_count": 41,
     "metadata": {},
     "output_type": "execute_result"
    }
   ],
   "source": [
    "order_data.drop_duplicates(inplace=True)          # 删除重复数据\n",
    "order_data.reset_index(drop=True, inplace=True)  # 重建索引\n",
    "\n",
    "# 空值检查\n",
    "order_data.isnull().sum()"
   ]
  },
  {
   "cell_type": "code",
   "execution_count": 42,
   "id": "5b256cab",
   "metadata": {},
   "outputs": [
    {
     "data": {
      "text/plain": [
       "订单编码    0\n",
       "订单日期    0\n",
       "客户编码    0\n",
       "所在区域    0\n",
       "所在省份    0\n",
       "所在地市    0\n",
       "商品编号    0\n",
       "订购数量    0\n",
       "订购单价    0\n",
       "金额      0\n",
       "dtype: int64"
      ]
     },
     "execution_count": 42,
     "metadata": {},
     "output_type": "execute_result"
    }
   ],
   "source": [
    "order_data.dropna(inplace=True)\n",
    "order_data.isnull().sum()"
   ]
  },
  {
   "cell_type": "code",
   "execution_count": 55,
   "id": "7b04bd16",
   "metadata": {},
   "outputs": [
    {
     "data": {
      "text/plain": [
       "0       2019-05-16\n",
       "1       2019-05-14\n",
       "2       2019-08-26\n",
       "3       2019-04-08\n",
       "4       2019-04-11\n",
       "           ...    \n",
       "31439   2019-04-16\n",
       "31440   2019-05-03\n",
       "31441   2019-03-03\n",
       "31442   2019-09-27\n",
       "31443   2019-08-06\n",
       "Name: 订单日期, Length: 31438, dtype: datetime64[ns]"
      ]
     },
     "execution_count": 55,
     "metadata": {},
     "output_type": "execute_result"
    }
   ],
   "source": [
    "order_data['订单日期'] = order_data['订单日期'].apply(lambda x: pd.to_datetime(x, format='%Y#%m#%d') if isinstance(x, str) else x)\n",
    "order_data['订单日期']  # 将日期中的部分str转换为datetime\n"
   ]
  },
  {
   "cell_type": "code",
   "execution_count": 63,
   "id": "d90f9855",
   "metadata": {},
   "outputs": [],
   "source": [
    "# 过滤脏数据\n",
    "order_data = order_data[order_data['订单日期'] < '2022-1-1']\n"
   ]
  },
  {
   "cell_type": "code",
   "execution_count": 73,
   "id": "b8d7506b",
   "metadata": {},
   "outputs": [],
   "source": [
    "order_data['订购数量'] = order_data['订购数量'].apply(lambda x: x.strip('个') if isinstance(x, str) else x).astype(int)\n",
    "order_data['订购单价'] = order_data['订购数量'].apply(lambda x: x.strip('元') if isinstance(x, str) else x).astype(float)\n",
    "order_data['金额'] = order_data['金额'].astype(float)"
   ]
  },
  {
   "cell_type": "code",
   "execution_count": 76,
   "id": "bab89ff7",
   "metadata": {},
   "outputs": [
    {
     "data": {
      "text/plain": [
       "array(['浙江', '安徽', '山西', '吉林', '北京', '云南', '广东', '广西', '内蒙古', '新疆', '湖北',\n",
       "       '江苏', '甘肃', '四川', '河南', '福建', '陕西', '辽宁', '山东', '江西', '重庆', '河北',\n",
       "       '湖南', '上海', '贵州', '天津', '海南', '宁夏', '黑龙江'], dtype=object)"
      ]
     },
     "execution_count": 76,
     "metadata": {},
     "output_type": "execute_result"
    }
   ],
   "source": [
    "order_data['所在省份'] = order_data['所在省份'].str.replace('自治区|维吾尔|回族|壮族|省|市', '', regex=True) \n",
    "order_data['所在省份'].unique()"
   ]
  },
  {
   "cell_type": "code",
   "execution_count": 82,
   "id": "ac28d356",
   "metadata": {},
   "outputs": [
    {
     "name": "stdout",
     "output_type": "stream",
     "text": [
      "<class 'pandas.core.frame.DataFrame'>\n",
      "Int64Index: 31437 entries, 0 to 31443\n",
      "Data columns (total 10 columns):\n",
      " #   Column  Non-Null Count  Dtype         \n",
      "---  ------  --------------  -----         \n",
      " 0   订单编码    31437 non-null  object        \n",
      " 1   订单日期    31437 non-null  datetime64[ns]\n",
      " 2   客户编码    31437 non-null  object        \n",
      " 3   所在区域    31437 non-null  object        \n",
      " 4   所在省份    31437 non-null  object        \n",
      " 5   所在地市    31437 non-null  object        \n",
      " 6   商品编号    31437 non-null  object        \n",
      " 7   订购数量    31437 non-null  int32         \n",
      " 8   订购单价    31437 non-null  float64       \n",
      " 9   金额      31437 non-null  float64       \n",
      "dtypes: datetime64[ns](1), float64(2), int32(1), object(6)\n",
      "memory usage: 2.5+ MB\n"
     ]
    }
   ],
   "source": [
    "order_data['客户编码'] = order_data['客户编码'].str.replace('编号', '')\n",
    "order_data.info()"
   ]
  },
  {
   "cell_type": "markdown",
   "id": "72b216e1",
   "metadata": {},
   "source": [
    "#### 3.1 数据可视化"
   ]
  },
  {
   "cell_type": "code",
   "execution_count": 81,
   "id": "f398d400",
   "metadata": {},
   "outputs": [],
   "source": [
    "import matplotlib.pyplot as plt\n",
    "plt.rcParams['font.sans-serif']=['SimHei'] #Show Chinese label\n",
    "plt.rcParams['axes.unicode_minus']=False   #These two lines need to be set manually\n"
   ]
  },
  {
   "cell_type": "code",
   "execution_count": 83,
   "id": "482f59e7",
   "metadata": {},
   "outputs": [
    {
     "data": {
      "text/plain": [
       "(Timestamp('2019-01-01 00:00:00'), Timestamp('2019-09-30 00:00:00'))"
      ]
     },
     "execution_count": 83,
     "metadata": {},
     "output_type": "execute_result"
    }
   ],
   "source": [
    "order_data['订单日期'].min(), order_data['订单日期'].max()\n"
   ]
  },
  {
   "cell_type": "code",
   "execution_count": 134,
   "id": "27e3f8e8",
   "metadata": {},
   "outputs": [
    {
     "data": {
      "image/png": "[encoded data removed]",
      "text/plain": [
       "<Figure size 720x576 with 2 Axes>"
      ]
     },
     "metadata": {
      "needs_background": "light"
     },
     "output_type": "display_data"
    }
   ],
   "source": [
    "# 每月订购情况\n",
    "order_data['month'] = order_data['订单日期'].apply(lambda x: x.month)\n",
    "month_order_res = order_data.groupby('month').agg({'订购数量': 'sum', '金额':'sum'}).to_dict()\n",
    "\n",
    "x = list(month_order_res['订购数量'].keys())\n",
    "y1 = [round(v/1e6, 2) for v in month_order_res['订购数量'].values()]\n",
    "y2 = [round(v/1e6, 2) for v in month_order_res['金额'].values()]\n",
    "\n",
    "fig = plt.figure(figsize=(10, 8))\n",
    "\n",
    "l1 = plt.bar(x, y1, width=0.5)\n",
    "\n",
    "plt.xlabel('month')\n",
    "plt.ylabel('order amount / million', color='b')\n",
    "plt.tick_params(axis = 'y', labelcolor = 'b')\n",
    "for i in range(len(x)):\n",
    "    plt.annotate('{:.2f}'.format(y1[i]), (x[i]-0.3, y1[i]+5))\n",
    "\n",
    "\n",
    "ax2 = plt.twinx()     # 多轴\n",
    "ax2.set_ylabel('total value/ million', color='r')\n",
    "\n",
    "l2, = plt.plot(x, y2, 'r')\n",
    "plt.scatter(x, y2,  color = 'r', marker = '*', s = 50)\n",
    "plt.tick_params(axis = 'y', labelcolor = 'r')\n",
    "\n",
    "plt.legend(handles=[l1, l2], labels=['order amount', 'total value'], loc='upper left')\n",
    "\n",
    "for i in range(len(x)):\n",
    "    plt.annotate('{:.2f}'.format(y1[i]), (x[i], y1[i]))\n",
    "\n",
    "plt.show()"
   ]
  },
  {
   "cell_type": "code",
   "execution_count": 145,
   "id": "bf5c756d",
   "metadata": {},
   "outputs": [
    {
     "data": {
      "image/png": "[encoded data removed]",
      "text/plain": [
       "<Figure size 720x576 with 1 Axes>"
      ]
     },
     "metadata": {
      "needs_background": "light"
     },
     "output_type": "display_data"
    }
   ],
   "source": [
    "# 城市订单 Top 20\n",
    "city_order_top_20 = order_data.groupby('所在地市').agg({'订购数量':'sum'}).sort_values(by='订购数量', ascending=False)[:20].to_dict()['订购数量']\n",
    "\n",
    "x = list(city_order_top_20.keys())[::-1]\n",
    "y = list(city_order_top_20.values())[::-1]\n",
    "\n",
    "fig = plt.figure(figsize=(10, 8))\n",
    "plt.barh(x,y)\n",
    "plt.ylabel('City')\n",
    "plt.xlabel('Oreder Amount')\n",
    "\n",
    "plt.show()\n"
   ]
  },
  {
   "cell_type": "code",
   "execution_count": 150,
   "id": "2e1c4ecf",
   "metadata": {},
   "outputs": [
    {
     "data": {
      "text/html": [
       "<div>\n",
       "<style scoped>\n",
       "    .dataframe tbody tr th:only-of-type {\n",
       "        vertical-align: middle;\n",
       "    }\n",
       "\n",
       "    .dataframe tbody tr th {\n",
       "        vertical-align: top;\n",
       "    }\n",
       "\n",
       "    .dataframe thead th {\n",
       "        text-align: right;\n",
       "    }\n",
       "</style>\n",
       "<table border=\"1\" class=\"dataframe\">\n",
       "  <thead>\n",
       "    <tr style=\"text-align: right;\">\n",
       "      <th></th>\n",
       "      <th></th>\n",
       "      <th>订购数量</th>\n",
       "    </tr>\n",
       "    <tr>\n",
       "      <th>商品大类</th>\n",
       "      <th>商品小类</th>\n",
       "      <th></th>\n",
       "    </tr>\n",
       "  </thead>\n",
       "  <tbody>\n",
       "    <tr>\n",
       "      <th rowspan=\"7\" valign=\"top\">护肤品</th>\n",
       "      <th>面膜</th>\n",
       "      <td>5450216</td>\n",
       "    </tr>\n",
       "    <tr>\n",
       "      <th>面霜</th>\n",
       "      <td>4566905</td>\n",
       "    </tr>\n",
       "    <tr>\n",
       "      <th>爽肤水</th>\n",
       "      <td>3523687</td>\n",
       "    </tr>\n",
       "    <tr>\n",
       "      <th>眼霜</th>\n",
       "      <td>3346554</td>\n",
       "    </tr>\n",
       "    <tr>\n",
       "      <th>隔离霜</th>\n",
       "      <td>2488124</td>\n",
       "    </tr>\n",
       "    <tr>\n",
       "      <th>防晒霜</th>\n",
       "      <td>2388610</td>\n",
       "    </tr>\n",
       "    <tr>\n",
       "      <th>洁面乳</th>\n",
       "      <td>1927482</td>\n",
       "    </tr>\n",
       "    <tr>\n",
       "      <th rowspan=\"5\" valign=\"top\">彩妆</th>\n",
       "      <th>口红</th>\n",
       "      <td>2013024</td>\n",
       "    </tr>\n",
       "    <tr>\n",
       "      <th>粉底</th>\n",
       "      <td>1188621</td>\n",
       "    </tr>\n",
       "    <tr>\n",
       "      <th>睫毛膏</th>\n",
       "      <td>586332</td>\n",
       "    </tr>\n",
       "    <tr>\n",
       "      <th>眼影</th>\n",
       "      <td>295795</td>\n",
       "    </tr>\n",
       "    <tr>\n",
       "      <th>蜜粉</th>\n",
       "      <td>45534</td>\n",
       "    </tr>\n",
       "  </tbody>\n",
       "</table>\n",
       "</div>"
      ],
      "text/plain": [
       "              订购数量\n",
       "商品大类 商品小类         \n",
       "护肤品  面膜    5450216\n",
       "     面霜    4566905\n",
       "     爽肤水   3523687\n",
       "     眼霜    3346554\n",
       "     隔离霜   2488124\n",
       "     防晒霜   2388610\n",
       "     洁面乳   1927482\n",
       "彩妆   口红    2013024\n",
       "     粉底    1188621\n",
       "     睫毛膏    586332\n",
       "     眼影     295795\n",
       "     蜜粉      45534"
      ]
     },
     "execution_count": 150,
     "metadata": {},
     "output_type": "execute_result"
    }
   ],
   "source": [
    "# 化妆品类型需求分析\n",
    "\n",
    "whole_order = pd.merge(order_data, product_data, on='商品编号', how='inner')  # 表关联\n",
    "whole_order.groupby(['商品大类', '商品小类']).agg({'订购数量': 'sum'}).sort_values(['商品大类','订购数量'], ascending=False)"
   ]
  },
  {
   "cell_type": "markdown",
   "id": "0b3a9ab2",
   "metadata": {},
   "source": [
    "**RFM模型**\n",
    "\n",
    "通过RFM模型挖掘客户价值\n",
    "\n",
    "RFM模型是衡量客户价值和客户创利能力的重要工具和手段，其中包含3部分指标：\n",
    "\n",
    "- R（Recency）最近一次购买时间\n",
    "- F（Frequency）消费频率\n",
    "- M（Money）消费金额\n",
    "\n",
    "设定一个计算权重，比如（0.2，0.3,0.5），通过这个权重打分量化客户价值"
   ]
  },
  {
   "cell_type": "code",
   "execution_count": 156,
   "id": "24368479",
   "metadata": {},
   "outputs": [
    {
     "data": {
      "text/html": [
       "<div>\n",
       "<style scoped>\n",
       "    .dataframe tbody tr th:only-of-type {\n",
       "        vertical-align: middle;\n",
       "    }\n",
       "\n",
       "    .dataframe tbody tr th {\n",
       "        vertical-align: top;\n",
       "    }\n",
       "\n",
       "    .dataframe thead th {\n",
       "        text-align: right;\n",
       "    }\n",
       "</style>\n",
       "<table border=\"1\" class=\"dataframe\">\n",
       "  <thead>\n",
       "    <tr style=\"text-align: right;\">\n",
       "      <th></th>\n",
       "      <th>recency</th>\n",
       "      <th>frequency</th>\n",
       "      <th>money</th>\n",
       "      <th>R_pct</th>\n",
       "      <th>F_pct</th>\n",
       "      <th>M_pct</th>\n",
       "    </tr>\n",
       "    <tr>\n",
       "      <th>客户编码</th>\n",
       "      <th></th>\n",
       "      <th></th>\n",
       "      <th></th>\n",
       "      <th></th>\n",
       "      <th></th>\n",
       "      <th></th>\n",
       "    </tr>\n",
       "  </thead>\n",
       "  <tbody>\n",
       "    <tr>\n",
       "      <th>S11609</th>\n",
       "      <td>2019-09-30</td>\n",
       "      <td>42</td>\n",
       "      <td>7326027.0</td>\n",
       "      <td>0.980148</td>\n",
       "      <td>0.796399</td>\n",
       "      <td>0.903970</td>\n",
       "    </tr>\n",
       "    <tr>\n",
       "      <th>S19828</th>\n",
       "      <td>2019-09-30</td>\n",
       "      <td>21</td>\n",
       "      <td>2642275.0</td>\n",
       "      <td>0.980148</td>\n",
       "      <td>0.356879</td>\n",
       "      <td>0.306556</td>\n",
       "    </tr>\n",
       "    <tr>\n",
       "      <th>S17166</th>\n",
       "      <td>2019-09-30</td>\n",
       "      <td>17</td>\n",
       "      <td>3627037.0</td>\n",
       "      <td>0.980148</td>\n",
       "      <td>0.261773</td>\n",
       "      <td>0.478301</td>\n",
       "    </tr>\n",
       "    <tr>\n",
       "      <th>S22925</th>\n",
       "      <td>2019-09-30</td>\n",
       "      <td>31</td>\n",
       "      <td>3449117.0</td>\n",
       "      <td>0.980148</td>\n",
       "      <td>0.591413</td>\n",
       "      <td>0.457987</td>\n",
       "    </tr>\n",
       "    <tr>\n",
       "      <th>S10469</th>\n",
       "      <td>2019-09-30</td>\n",
       "      <td>30</td>\n",
       "      <td>4198071.0</td>\n",
       "      <td>0.980148</td>\n",
       "      <td>0.570175</td>\n",
       "      <td>0.564174</td>\n",
       "    </tr>\n",
       "    <tr>\n",
       "      <th>...</th>\n",
       "      <td>...</td>\n",
       "      <td>...</td>\n",
       "      <td>...</td>\n",
       "      <td>...</td>\n",
       "      <td>...</td>\n",
       "      <td>...</td>\n",
       "    </tr>\n",
       "    <tr>\n",
       "      <th>S16503</th>\n",
       "      <td>2019-04-07</td>\n",
       "      <td>14</td>\n",
       "      <td>1682893.0</td>\n",
       "      <td>0.004617</td>\n",
       "      <td>0.198061</td>\n",
       "      <td>0.146814</td>\n",
       "    </tr>\n",
       "    <tr>\n",
       "      <th>S17547</th>\n",
       "      <td>2019-03-14</td>\n",
       "      <td>10</td>\n",
       "      <td>1784531.0</td>\n",
       "      <td>0.003232</td>\n",
       "      <td>0.087719</td>\n",
       "      <td>0.163435</td>\n",
       "    </tr>\n",
       "    <tr>\n",
       "      <th>S20864</th>\n",
       "      <td>2019-03-14</td>\n",
       "      <td>8</td>\n",
       "      <td>1118752.0</td>\n",
       "      <td>0.003232</td>\n",
       "      <td>0.039243</td>\n",
       "      <td>0.047091</td>\n",
       "    </tr>\n",
       "    <tr>\n",
       "      <th>S11908</th>\n",
       "      <td>2019-03-09</td>\n",
       "      <td>9</td>\n",
       "      <td>1552311.0</td>\n",
       "      <td>0.001847</td>\n",
       "      <td>0.060942</td>\n",
       "      <td>0.125577</td>\n",
       "    </tr>\n",
       "    <tr>\n",
       "      <th>S11611</th>\n",
       "      <td>2019-03-03</td>\n",
       "      <td>10</td>\n",
       "      <td>1487966.0</td>\n",
       "      <td>0.000923</td>\n",
       "      <td>0.087719</td>\n",
       "      <td>0.114497</td>\n",
       "    </tr>\n",
       "  </tbody>\n",
       "</table>\n",
       "<p>1083 rows × 6 columns</p>\n",
       "</div>"
      ],
      "text/plain": [
       "          recency  frequency      money     R_pct     F_pct     M_pct\n",
       "客户编码                                                                 \n",
       "S11609 2019-09-30         42  7326027.0  0.980148  0.796399  0.903970\n",
       "S19828 2019-09-30         21  2642275.0  0.980148  0.356879  0.306556\n",
       "S17166 2019-09-30         17  3627037.0  0.980148  0.261773  0.478301\n",
       "S22925 2019-09-30         31  3449117.0  0.980148  0.591413  0.457987\n",
       "S10469 2019-09-30         30  4198071.0  0.980148  0.570175  0.564174\n",
       "...           ...        ...        ...       ...       ...       ...\n",
       "S16503 2019-04-07         14  1682893.0  0.004617  0.198061  0.146814\n",
       "S17547 2019-03-14         10  1784531.0  0.003232  0.087719  0.163435\n",
       "S20864 2019-03-14          8  1118752.0  0.003232  0.039243  0.047091\n",
       "S11908 2019-03-09          9  1552311.0  0.001847  0.060942  0.125577\n",
       "S11611 2019-03-03         10  1487966.0  0.000923  0.087719  0.114497\n",
       "\n",
       "[1083 rows x 6 columns]"
      ]
     },
     "execution_count": 156,
     "metadata": {},
     "output_type": "execute_result"
    }
   ],
   "source": [
    "data_rfm = order_data.groupby('客户编码').agg({'订单日期':'max', '订单编码':'count', '金额':'sum'})\n",
    "data_rfm.columns = ['recency', 'frequency', 'money']\n",
    "\n",
    "data_rfm['R_pct'] = data_rfm['recency'].rank(pct=True)\n",
    "data_rfm['F_pct'] = data_rfm['frequency'].rank(pct=True)\n",
    "data_rfm['M_pct'] = data_rfm['money'].rank(pct=True)\n",
    "data_rfm.sort_values(by='R_pct', ascending=False)\n"
   ]
  },
  {
   "cell_type": "code",
   "execution_count": 159,
   "id": "a92eb31d",
   "metadata": {},
   "outputs": [
    {
     "data": {
      "text/html": [
       "<div>\n",
       "<style scoped>\n",
       "    .dataframe tbody tr th:only-of-type {\n",
       "        vertical-align: middle;\n",
       "    }\n",
       "\n",
       "    .dataframe tbody tr th {\n",
       "        vertical-align: top;\n",
       "    }\n",
       "\n",
       "    .dataframe thead th {\n",
       "        text-align: right;\n",
       "    }\n",
       "</style>\n",
       "<table border=\"1\" class=\"dataframe\">\n",
       "  <thead>\n",
       "    <tr style=\"text-align: right;\">\n",
       "      <th></th>\n",
       "      <th>recency</th>\n",
       "      <th>frequency</th>\n",
       "      <th>money</th>\n",
       "      <th>R_pct</th>\n",
       "      <th>F_pct</th>\n",
       "      <th>M_pct</th>\n",
       "      <th>score</th>\n",
       "    </tr>\n",
       "    <tr>\n",
       "      <th>客户编码</th>\n",
       "      <th></th>\n",
       "      <th></th>\n",
       "      <th></th>\n",
       "      <th></th>\n",
       "      <th></th>\n",
       "      <th></th>\n",
       "      <th></th>\n",
       "    </tr>\n",
       "  </thead>\n",
       "  <tbody>\n",
       "    <tr>\n",
       "      <th>S17476</th>\n",
       "      <td>2019-09-30</td>\n",
       "      <td>68</td>\n",
       "      <td>10258002.0</td>\n",
       "      <td>0.980148</td>\n",
       "      <td>0.985226</td>\n",
       "      <td>0.987073</td>\n",
       "      <td>98.5</td>\n",
       "    </tr>\n",
       "    <tr>\n",
       "      <th>S22326</th>\n",
       "      <td>2019-09-30</td>\n",
       "      <td>62</td>\n",
       "      <td>10074609.0</td>\n",
       "      <td>0.980148</td>\n",
       "      <td>0.973223</td>\n",
       "      <td>0.984303</td>\n",
       "      <td>98.0</td>\n",
       "    </tr>\n",
       "    <tr>\n",
       "      <th>S11581</th>\n",
       "      <td>2019-09-28</td>\n",
       "      <td>79</td>\n",
       "      <td>10333668.0</td>\n",
       "      <td>0.918283</td>\n",
       "      <td>0.996768</td>\n",
       "      <td>0.987996</td>\n",
       "      <td>97.7</td>\n",
       "    </tr>\n",
       "    <tr>\n",
       "      <th>S12848</th>\n",
       "      <td>2019-09-29</td>\n",
       "      <td>66</td>\n",
       "      <td>9673572.0</td>\n",
       "      <td>0.944598</td>\n",
       "      <td>0.980609</td>\n",
       "      <td>0.980609</td>\n",
       "      <td>97.3</td>\n",
       "    </tr>\n",
       "    <tr>\n",
       "      <th>S19095</th>\n",
       "      <td>2019-09-26</td>\n",
       "      <td>81</td>\n",
       "      <td>11031632.0</td>\n",
       "      <td>0.864728</td>\n",
       "      <td>0.999077</td>\n",
       "      <td>0.996307</td>\n",
       "      <td>97.1</td>\n",
       "    </tr>\n",
       "    <tr>\n",
       "      <th>...</th>\n",
       "      <td>...</td>\n",
       "      <td>...</td>\n",
       "      <td>...</td>\n",
       "      <td>...</td>\n",
       "      <td>...</td>\n",
       "      <td>...</td>\n",
       "      <td>...</td>\n",
       "    </tr>\n",
       "    <tr>\n",
       "      <th>S12690</th>\n",
       "      <td>2019-05-07</td>\n",
       "      <td>7</td>\n",
       "      <td>917233.0</td>\n",
       "      <td>0.012927</td>\n",
       "      <td>0.022622</td>\n",
       "      <td>0.024931</td>\n",
       "      <td>2.2</td>\n",
       "    </tr>\n",
       "    <tr>\n",
       "      <th>S11176</th>\n",
       "      <td>2019-06-09</td>\n",
       "      <td>7</td>\n",
       "      <td>614134.0</td>\n",
       "      <td>0.036011</td>\n",
       "      <td>0.022622</td>\n",
       "      <td>0.009234</td>\n",
       "      <td>1.9</td>\n",
       "    </tr>\n",
       "    <tr>\n",
       "      <th>S18379</th>\n",
       "      <td>2019-07-05</td>\n",
       "      <td>4</td>\n",
       "      <td>400195.0</td>\n",
       "      <td>0.071099</td>\n",
       "      <td>0.003232</td>\n",
       "      <td>0.004617</td>\n",
       "      <td>1.7</td>\n",
       "    </tr>\n",
       "    <tr>\n",
       "      <th>S13259</th>\n",
       "      <td>2019-06-01</td>\n",
       "      <td>6</td>\n",
       "      <td>645925.0</td>\n",
       "      <td>0.025854</td>\n",
       "      <td>0.011542</td>\n",
       "      <td>0.011080</td>\n",
       "      <td>1.4</td>\n",
       "    </tr>\n",
       "    <tr>\n",
       "      <th>S12463</th>\n",
       "      <td>2019-04-11</td>\n",
       "      <td>7</td>\n",
       "      <td>345919.0</td>\n",
       "      <td>0.005540</td>\n",
       "      <td>0.022622</td>\n",
       "      <td>0.000923</td>\n",
       "      <td>0.8</td>\n",
       "    </tr>\n",
       "  </tbody>\n",
       "</table>\n",
       "<p>1083 rows × 7 columns</p>\n",
       "</div>"
      ],
      "text/plain": [
       "          recency  frequency       money     R_pct     F_pct     M_pct  score\n",
       "客户编码                                                                         \n",
       "S17476 2019-09-30         68  10258002.0  0.980148  0.985226  0.987073   98.5\n",
       "S22326 2019-09-30         62  10074609.0  0.980148  0.973223  0.984303   98.0\n",
       "S11581 2019-09-28         79  10333668.0  0.918283  0.996768  0.987996   97.7\n",
       "S12848 2019-09-29         66   9673572.0  0.944598  0.980609  0.980609   97.3\n",
       "S19095 2019-09-26         81  11031632.0  0.864728  0.999077  0.996307   97.1\n",
       "...           ...        ...         ...       ...       ...       ...    ...\n",
       "S12690 2019-05-07          7    917233.0  0.012927  0.022622  0.024931    2.2\n",
       "S11176 2019-06-09          7    614134.0  0.036011  0.022622  0.009234    1.9\n",
       "S18379 2019-07-05          4    400195.0  0.071099  0.003232  0.004617    1.7\n",
       "S13259 2019-06-01          6    645925.0  0.025854  0.011542  0.011080    1.4\n",
       "S12463 2019-04-11          7    345919.0  0.005540  0.022622  0.000923    0.8\n",
       "\n",
       "[1083 rows x 7 columns]"
      ]
     },
     "execution_count": 159,
     "metadata": {},
     "output_type": "execute_result"
    }
   ],
   "source": [
    "data_rfm['score'] = data_rfm['R_pct']*20 + data_rfm['F_pct']*30 + data_rfm['M_pct']*50\n",
    "\n",
    "data_rfm['score'] = data_rfm['score'].round(1)\n",
    "data_rfm = data_rfm.sort_values(by='score', ascending=False)\n",
    "data_rfm\n",
    "\n"
   ]
  },
  {
   "cell_type": "code",
   "execution_count": null,
   "id": "497fdcc2",
   "metadata": {},
   "outputs": [],
   "source": []
  }
 ],
 "metadata": {
  "kernelspec": {
   "display_name": "Python 3 (ipykernel)",
   "language": "python",
   "name": "python3"
  },
  "language_info": {
   "codemirror_mode": {
    "name": "ipython",
    "version": 3
   },
   "file_extension": ".py",
   "mimetype": "text/x-python",
   "name": "python",
   "nbconvert_exporter": "python",
   "pygments_lexer": "ipython3",
   "version": "3.9.12"
  }
 },
 "nbformat": 4,
 "nbformat_minor": 5
}
